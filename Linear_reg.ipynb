import numpy as np
import pandas as pd
import statsmodels.api as sm
import matplotlib.pyplot as plt
from sklearn.linear_model import LinearRegression
import seaborn as sns
sns.set()

raw_data = pd.read_csv('1.04. Real-life example.csv')
raw_data.head()

raw_data.describe(include='all')

data = raw_data.drop(['Model'],axis=1)
data.describe(include='all')

data.isnull().sum()

data_no_mv = data.dropna(axis=0)

data_no_mv.describe(include='all')

sns.distplot(data_no_mv['Price'])

q = data_no_mv['Price'].quantile(0.99)
data_1 = data_no_mv[data_no_mv['Price']<q]
data_1.describe(include='all')

sns.distplot(data_1['Price'])

sns.distplot(data_no_mv['Mileage'])

q = data_1['Mileage'].quantile(0.99)
data_2 = data_1[data_1['Mileage']<q]

sns.distplot(data_2['Mileage'])

sns.distplot(data_no_mv['EngineV'])

data_3 = data_2[data_2['EngineV']<6.5]

sns.distplot(data_3['EngineV'])

sns.distplot(data_no_mv['Year'])

q = data_3['Year'].quantile(0.01)
data_4 = data_3[data_3['Year']>q]

sns.distplot(data_4['Year'])

data_cleaned = data_4.reset_index(drop=True)

data_cleaned.describe(include='all')

f, (ax1, ax2, ax3) = plt.subplots(1, 3, sharey=True, figsize =(15,3))
ax1.scatter(data_cleaned['Year'],data_cleaned['Price'])
ax1.set_title('Price and Year')
ax2.scatter(data_cleaned['EngineV'],data_cleaned['Price'])
ax2.set_title('Price and EngineV')
ax3.scatter(data_cleaned['Mileage'],data_cleaned['Price'])
ax3.set_title('Price and Mileage')


plt.show()

sns.distplot(data_cleaned['Price'])

log_price = np.log(data_cleaned['Price'])
data_cleaned['log_price'] = log_price
data_cleaned


f, (ax1, ax2, ax3) = plt.subplots(1, 3, sharey=True, figsize =(15,3))
ax1.scatter(data_cleaned['Year'],data_cleaned['log_price'])
ax1.set_title('Log Price and Year')
ax2.scatter(data_cleaned['EngineV'],data_cleaned['log_price'])
ax2.set_title('Log Price and EngineV')
ax3.scatter(data_cleaned['Mileage'],data_cleaned['log_price'])
ax3.set_title('Log Price and Mileage')


plt.show()


data_cleaned = data_cleaned.drop(['Price'],axis=1)


data_cleaned.columns.values


from statsmodels.stats.outliers_influence import variance_inflation_factor
variables = data_cleaned[['Mileage','Year','EngineV']]
vif = pd.DataFrame()
vif["VIF"] = [variance_inflation_factor(variables.values, i) for i in range(variables.shape[1])]
vif["features"] = variables.columns

vif

data_no_multicollinearity = data_cleaned.drop(['Year'],axis=1)

data_with_dummies = pd.get_dummies(data_no_multicollinearity, drop_first=True)

data_with_dummies.head()